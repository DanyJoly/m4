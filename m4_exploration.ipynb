{
 "cells": [
  {
   "cell_type": "markdown",
   "metadata": {},
   "source": [
    "# M4 Datasets Exploration\n",
    "\n",
    "M4 dataset can be downloaded from [Kaggle](https://www.kaggle.com/yogesh94/m4-forecasting-competition-dataset)\n",
    "\n",
    "More details on the dataset [here](https://www.sciencedirect.com/science/article/pii/S0169207019301128)"
   ]
  },
  {
   "cell_type": "code",
   "execution_count": null,
   "metadata": {},
   "outputs": [],
   "source": [
    "import os\n",
    "import json\n",
    "from enum import Enum\n",
    "\n",
    "from numpy.random import randn\n",
    "import numpy as np\n",
    "np.random.seed(123)\n",
    "import matplotlib.pyplot as plt\n",
    "import matplotlib.gridspec as gridspec\n",
    "import pandas as pd\n",
    "plt.rc('figure', figsize=(10, 6))\n",
    "np.set_printoptions(precision=4)\n",
    "pd.options.display.max_rows = 20\n",
    "import seaborn as sns\n",
    "from IPython.display import display"
   ]
  },
  {
   "cell_type": "code",
   "execution_count": null,
   "metadata": {},
   "outputs": [],
   "source": [
    "# Input\n",
    "INPUT_DIR = \"input\"\n",
    "\n",
    "HOURLY=\"Hourly\"\n",
    "DAILY=\"Daily\"\n",
    "MONTHLY=\"Monthly\"\n",
    "QUARTERLY=\"Quarterly\"\n",
    "\n",
    "Datasets = Enum('Datasets', 'Hourly Daily Monthly Quarterly')\n",
    "\n",
    "def load_dataset(dataset):\n",
    "    test_filepath = os.path.join(INPUT_DIR, dataset.name + \"-test.csv\")\n",
    "    train_filepath = os.path.join(INPUT_DIR, dataset.name + \"-train.csv\")\n",
    "    \n",
    "    return pd.read_csv(test_filepath, sep=',', header=0, index_col=0, engine='python'), pd.read_csv(train_filepath, sep=',', header=0, index_col=0, engine='python')    "
   ]
  },
  {
   "cell_type": "code",
   "execution_count": null,
   "metadata": {},
   "outputs": [],
   "source": [
    "hourly_train, hourly_test = load_dataset(Datasets.Hourly)\n",
    "#daily_train, daily_test = load_dataset(Datasets.Daily)\n",
    "#monthly_train, monthly_test = load_dataset(Datasets.Monthly)\n",
    "#quarterly_train, quarterly_test = load_dataset(Datasets.Quarterly)"
   ]
  },
  {
   "cell_type": "code",
   "execution_count": null,
   "metadata": {},
   "outputs": [],
   "source": [
    "hourly_train.shape, hourly_test.shape"
   ]
  },
  {
   "cell_type": "code",
   "execution_count": null,
   "metadata": {},
   "outputs": [],
   "source": [
    "#daily_train.shape, daily_test.shape"
   ]
  },
  {
   "cell_type": "code",
   "execution_count": null,
   "metadata": {},
   "outputs": [],
   "source": [
    "#monthly_train.shape, monthly_test.shape"
   ]
  },
  {
   "cell_type": "code",
   "execution_count": null,
   "metadata": {},
   "outputs": [],
   "source": [
    "#quarterly_train.shape, quarterly_test.shape"
   ]
  },
  {
   "cell_type": "code",
   "execution_count": null,
   "metadata": {},
   "outputs": [],
   "source": [
    "hourly_train.head()"
   ]
  },
  {
   "cell_type": "code",
   "execution_count": null,
   "metadata": {},
   "outputs": [],
   "source": [
    "# Lots of seasonality in there\n",
    "hourly_train.iloc[0:10, ].transpose().plot()"
   ]
  },
  {
   "cell_type": "code",
   "execution_count": null,
   "metadata": {},
   "outputs": [],
   "source": []
  }
 ],
 "metadata": {
  "kernelspec": {
   "display_name": "Python 3",
   "language": "python",
   "name": "python3"
  },
  "language_info": {
   "codemirror_mode": {
    "name": "ipython",
    "version": 3
   },
   "file_extension": ".py",
   "mimetype": "text/x-python",
   "name": "python",
   "nbconvert_exporter": "python",
   "pygments_lexer": "ipython3",
   "version": "3.7.4"
  }
 },
 "nbformat": 4,
 "nbformat_minor": 4
}
